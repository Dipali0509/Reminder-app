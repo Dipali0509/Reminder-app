{
 "cells": [
  {
   "cell_type": "code",
   "execution_count": null,
   "metadata": {},
   "outputs": [
    {
     "name": "stdout",
     "output_type": "stream",
     "text": [
      "What shall I remind you about?\n",
      "get a pen\n",
      "In how many minutes?\n"
     ]
    }
   ],
   "source": [
    "import time\n",
    "print(\"What shall I remind you about?\")\n",
    "text = str(input())\n",
    "print(\"In how many minutes?\")\n",
    "local_time = float(input())\n",
    "local_time = local_time * 60\n",
    "time.sleep(local_time)\n",
    "print(text)"
   ]
  }
 ],
 "metadata": {
  "kernelspec": {
   "display_name": "Python 3",
   "language": "python",
   "name": "python3"
  },
  "language_info": {
   "codemirror_mode": {
    "name": "ipython",
    "version": 3
   },
   "file_extension": ".py",
   "mimetype": "text/x-python",
   "name": "python",
   "nbconvert_exporter": "python",
   "pygments_lexer": "ipython3",
   "version": "3.8.3"
  }
 },
 "nbformat": 4,
 "nbformat_minor": 4
}
